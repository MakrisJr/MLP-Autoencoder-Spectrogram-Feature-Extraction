{
 "cells": [
  {
   "cell_type": "code",
   "execution_count": 1,
   "id": "e64ffd93",
   "metadata": {
    "_cell_guid": "b1076dfc-b9ad-4769-8c92-a6c4dae69d19",
    "_uuid": "8f2839f25d086af736a60e9eeb907d3b93b6e0e5",
    "execution": {
     "iopub.execute_input": "2024-03-14T11:03:48.550951Z",
     "iopub.status.busy": "2024-03-14T11:03:48.550577Z",
     "iopub.status.idle": "2024-03-14T11:03:49.763737Z",
     "shell.execute_reply": "2024-03-14T11:03:49.762942Z"
    },
    "papermill": {
     "duration": 1.220681,
     "end_time": "2024-03-14T11:03:49.766065",
     "exception": false,
     "start_time": "2024-03-14T11:03:48.545384",
     "status": "completed"
    },
    "tags": []
   },
   "outputs": [],
   "source": [
    "import os\n",
    "import pandas as pd, numpy as np\n",
    "from glob import glob\n",
    "import matplotlib.pyplot as plt\n",
    "from tqdm import tqdm\n",
    "VER = 1"
   ]
  },
  {
   "cell_type": "code",
   "execution_count": 2,
   "id": "1ce254b9",
   "metadata": {
    "execution": {
     "iopub.execute_input": "2024-03-14T11:03:49.774688Z",
     "iopub.status.busy": "2024-03-14T11:03:49.774294Z",
     "iopub.status.idle": "2024-03-14T11:04:03.860569Z",
     "shell.execute_reply": "2024-03-14T11:04:03.859767Z"
    },
    "papermill": {
     "duration": 14.09323,
     "end_time": "2024-03-14T11:04:03.862904",
     "exception": false,
     "start_time": "2024-03-14T11:03:49.769674",
     "status": "completed"
    },
    "tags": []
   },
   "outputs": [],
   "source": [
    "import pyarrow.parquet as pq\n",
    "from torch.utils.data import Dataset\n",
    "import torch\n",
    "from sklearn.impute import SimpleImputer\n",
    "from torch.utils.data import DataLoader\n",
    "from torchvision import transforms\n",
    "\n",
    "\"\"\"\n",
    "# CAN RUN THIS FROM ANY NOTEBOOK\n",
    " \n",
    "from spectrogram_preprocessor import *\n",
    "from torch.utils.data import DataLoader\n",
    "from torchvision import transforms\n",
    "\n",
    "spectrogram_dataset = SpectrogramDataset(\"train\", transform=transforms.Compose([\n",
    "    MiddleCrop(), Impute(), LogTransform(), StackFrequencyBands()])\n",
    "    )\n",
    "\n",
    "dataloader = DataLoader(spectrogram_dataset, batch_size=32,\n",
    "                        shuffle=True, num_workers=0)\n",
    "\n",
    "\n",
    "for i_batch, sample_batched in enumerate(dataloader):\n",
    "    print(i_batch, sample_batched[\"values\"].shape) #, \"labels: \", sample_batched[1].shape)\n",
    "    print(sample_batched[\"seizure_vote\"].shape)\n",
    "    print(sample_batched[\"lpd_vote\"].shape)\n",
    "    print(sample_batched[\"gpd_vote\"].shape)\n",
    "    print(sample_batched[\"lrda_vote\"].shape)\n",
    "    print(sample_batched[\"grda_vote\"].shape)\n",
    "    print(len(sample_batched[\"target\"])) # for some reason target is a list\n",
    "    # observe 4th batch and stop.\n",
    "    if i_batch == 3:\n",
    "        break\n",
    "\n",
    "\"\"\"\n",
    "\n",
    "class SpectrogramDataset(Dataset):\n",
    "    \"\"\"EEG spectrograms dataset.\"\"\"\n",
    "\n",
    "    def __init__(self, data_type, csv_file=\"/kaggle/input/hms-harmful-brain-activity-classification/train.csv\", root_dir=\"/kaggle/input/hms-harmful-brain-activity-classification\", transform=None):\n",
    "        \"\"\"\n",
    "        Arguments:\n",
    "            csv_file (string): Path to the csv file with annotations.\n",
    "            root_dir (string): Directory with all the images.\n",
    "            transform (callable, optional): Optional transform to be applied\n",
    "                on a sample.\n",
    "        \"\"\"\n",
    "        self.data_type = data_type\n",
    "        if data_type == \"train\":\n",
    "            self.data_path = root_dir + \"/train_spectrograms\"\n",
    "            self.df_train = process_training_csv(csv_file)\n",
    "        elif data_type == \"test\":\n",
    "            self.data_path = root_dir + \"/test_spectrograms\"\n",
    "            self.df_train = pd.read_csv(csv_file)\n",
    "        self.transform = transform\n",
    "\n",
    "    def reset(self):\n",
    "        self.df_train = process_training_csv(\"hms-harmful-brain-activity-classification/train.csv\")\n",
    "        \n",
    "\n",
    "    def __len__(self):\n",
    "        return len(self.df_train)\n",
    "\n",
    "    def __getitem__(self, idx):\n",
    "        if torch.is_tensor(idx):\n",
    "            idx = idx.tolist()\n",
    "\n",
    "        if (self.data_type == \"train\"):\n",
    "            parquet_path = os.path.join(self.data_path, str(self.df_train.iloc[idx]['spec_id']) + \".parquet\")\n",
    "            parquet_table = pq.read_table(parquet_path)\n",
    "\n",
    "            sample = {\"values\" : parquet_table.to_pandas().values[:, 1:], # drop the time column\n",
    "                \"min\" : self.df_train.iloc[idx]['min'],\n",
    "                \"max\" : self.df_train.iloc[idx]['max']\n",
    "                }\n",
    "            if self.transform:\n",
    "                sample = self.transform(sample)\n",
    "\n",
    "            seizure_vote = self.df_train.iloc[idx]['seizure_vote']\n",
    "            lpd_vote = self.df_train.iloc[idx]['lpd_vote']\n",
    "            gpd_vote = self.df_train.iloc[idx]['gpd_vote']\n",
    "            lrda_vote = self.df_train.iloc[idx]['lrda_vote']\n",
    "            grda_vote = self.df_train.iloc[idx]['grda_vote']\n",
    "            other_vote = self.df_train.iloc[idx]['other_vote']\n",
    "            target = self.df_train.iloc[idx]['target']\n",
    "\n",
    "            sample = {\n",
    "                \"values\": sample[\"values\"],\n",
    "                \"seizure_vote\": seizure_vote,\n",
    "                \"lpd_vote\": lpd_vote,\n",
    "                \"gpd_vote\": gpd_vote,\n",
    "                \"lrda_vote\": lrda_vote,\n",
    "                \"grda_vote\": grda_vote,\n",
    "                \"other_vote\": other_vote,\n",
    "                \"target\": target\n",
    "            }\n",
    "        else:\n",
    "            #spectrogram_id eeg_id patient_id\n",
    "            parquet_path = os.path.join(self.data_path, str(self.df_train.iloc[idx]['spectrogram_id']) + \".parquet\")\n",
    "            parquet_table = pq.read_table(parquet_path)\n",
    "            \n",
    "            sample = {\"values\" : parquet_table.to_pandas().values[:, 1:], # drop the time column\n",
    "                \"min\" : 0,\n",
    "                \"max\" : 0\n",
    "                }\n",
    "            if self.transform:\n",
    "                sample = self.transform(sample)\n",
    "            \n",
    "            sample = {\n",
    "                \"values\": sample[\"values\"],\n",
    "                \"patient_id\": self.df_train.iloc[idx]['patient_id']\n",
    "            }\n",
    "\n",
    "        return sample\n",
    "\n",
    "\n",
    "def process_training_csv(csv_file):\n",
    "    \"\"\"\n",
    "    csv preprocessing from example notebook:\n",
    "    \"\"\"\n",
    "    df = pd.read_csv(csv_file)\n",
    "    TARGETS = df.columns[-6:]\n",
    "    # Creating a Unique EEG Segment per eeg_id:\n",
    "    # The code groups (groupby) the EEG data (df) by eeg_id. Each eeg_id represents a different EEG recording.\n",
    "    # It then picks the first spectrogram_id and the earliest (min) spectrogram_label_offset_seconds for each eeg_id. This helps in identifying the starting point of each EEG segment.\n",
    "    # The resulting DataFrame train has columns spec_id (first spectrogram_id) and min (earliest spectrogram_label_offset_seconds).\n",
    "    train = df.groupby('eeg_id')[['spectrogram_id','spectrogram_label_offset_seconds']].agg(\n",
    "        {'spectrogram_id':'first','spectrogram_label_offset_seconds':'min'})\n",
    "    train.columns = ['spec_id','min']\n",
    "    # Finding the Latest Point in Each EEG Segment:\n",
    "    # The code again groups the data by eeg_id and finds the latest (max) spectrogram_label_offset_seconds for each segment.\n",
    "    # This max value is added to the train DataFrame, representing the end point of each EEG segment.\n",
    "    tmp = df.groupby('eeg_id')[['spectrogram_id','spectrogram_label_offset_seconds']].agg(\n",
    "        {'spectrogram_label_offset_seconds':'max'})\n",
    "    train['max'] = tmp\n",
    "    # The code adds the patient_id for each eeg_id to the train DataFrame. This links each EEG segment to a specific patient.\n",
    "    tmp = df.groupby('eeg_id')[['patient_id']].agg('first')\n",
    "    train['patient_id'] = tmp\n",
    "    # The code sums up the target variable counts (like votes for seizure, LPD, etc.) for each eeg_id.\n",
    "    tmp = df.groupby('eeg_id')[TARGETS].agg('sum') \n",
    "    for t in TARGETS:\n",
    "        train[t] = tmp[t].values\n",
    "    # It then normalizes these counts so that they sum up to 1. This step converts the counts into probabilities, which is a common practice in classification tasks.\n",
    "    y_data = train[TARGETS].values \n",
    "    y_data = y_data / y_data.sum(axis=1,keepdims=True)\n",
    "    train[TARGETS] = y_data\n",
    "    # For each eeg_id, the code includes the expert_consensus on the EEG segment's classification.\n",
    "    tmp = df.groupby('eeg_id')[['expert_consensus']].agg('first')\n",
    "    train['target'] = tmp\n",
    "    # This makes eeg_id a regular column, making the DataFrame easier to work with.\n",
    "    train = train.reset_index() \n",
    "    print('Train non-overlapp eeg_id shape:', train.shape)\n",
    "    return train\n",
    "\n",
    "\n",
    "class MiddleCrop(object):\n",
    "    \"\"\"Crop the spectrogram in a sample, centred in the middle.\n",
    "\n",
    "    Args:\n",
    "        output_size: Desired output size. If int, square crop\n",
    "            is made.\n",
    "    \"\"\"\n",
    "\n",
    "    def __init__(self, output_size=300):\n",
    "        self.output_size = output_size\n",
    "\n",
    "    def __call__(self, sample):\n",
    "        # //2 for average, //2 for 2 seconds per bin (min and max are in seconds, spectrogram is 2 seconds per value)\n",
    "        start_from = int((sample[\"min\"] + sample[\"max\"]) // 4) \n",
    "        cropped = sample[\"values\"][start_from:start_from+self.output_size, :]\n",
    "        return {\"values\": cropped, \"min\": 0, \"max\": self.output_size*2}\n",
    "    \n",
    "class Impute(object):\n",
    "    \"\"\"\n",
    "    replace NaNs with mean\n",
    "\n",
    "    \"\"\"\n",
    "\n",
    "    def __init__(self):\n",
    "        self.nan_imputer = SimpleImputer(strategy='mean')\n",
    "\n",
    "    def __call__(self, sample):\n",
    "        imputed = self.nan_imputer.fit_transform(sample[\"values\"])\n",
    "        return {\"values\": imputed, \"min\": sample[\"min\"], \"max\": sample[\"max\"]}\n",
    "    \n",
    "class StackFrequencyBands(object):\n",
    "    \"\"\"Stack the 4 frequency bands of the spectrogram in a sample.\n",
    "\n",
    "    \"Args:\n",
    "        sample: 300x400 spectrogram\n",
    "        returns: 4x300x100 spectrogram (band/channel, time, frequency)\n",
    "    \"\"\"\n",
    "    def __call__(self, sample):\n",
    "        values = sample[\"values\"]\n",
    "        split_arrays = np.array(np.split(values, 4, axis=1))\n",
    "        return {\n",
    "            \"values\": split_arrays,\n",
    "                \"min\": sample[\"min\"],\n",
    "                \"max\": sample[\"max\"]\n",
    "        }\n",
    "\n",
    "class LogTransform(object):\n",
    "    \"\"\"Apply log transformation to the spectrogram in a sample.\n",
    "\n",
    "    Args:\n",
    "        sample: 4x300x100 spectrogram (band/channel, time, frequency)\n",
    "        returns: 4x300x100 spectrogram (band/channel, time, frequency)\n",
    "    \"\"\"\n",
    "    def __call__(self, sample):\n",
    "        values = sample[\"values\"]\n",
    "        log_transformed = np.log(values + 1)\n",
    "        return {\n",
    "            \"values\": log_transformed,\n",
    "                \"min\": sample[\"min\"],\n",
    "                \"max\": sample[\"max\"]\n",
    "        }\n"
   ]
  },
  {
   "cell_type": "code",
   "execution_count": 3,
   "id": "887c3194",
   "metadata": {
    "execution": {
     "iopub.execute_input": "2024-03-14T11:04:03.871947Z",
     "iopub.status.busy": "2024-03-14T11:04:03.871457Z",
     "iopub.status.idle": "2024-03-14T11:04:04.046615Z",
     "shell.execute_reply": "2024-03-14T11:04:04.045613Z"
    },
    "papermill": {
     "duration": 0.181643,
     "end_time": "2024-03-14T11:04:04.048756",
     "exception": false,
     "start_time": "2024-03-14T11:04:03.867113",
     "status": "completed"
    },
    "tags": []
   },
   "outputs": [],
   "source": [
    "import torch\n",
    "import torch.nn as nn\n",
    "import torch.optim as optim\n",
    "import numpy as np\n",
    "import torch.nn.init as init\n",
    "import torch.nn.init as init\n",
    "import gc\n",
    "gc.collect()\n",
    "torch.cuda.empty_cache()\n",
    "\n",
    "\"\"\"\n",
    "Ideas To Prevent Loss Nans\n",
    "1. Normalize Data Better\n",
    "2. Less Deep / Wide Architecture\n",
    "3. CNN instead of FCNN\n",
    "\"\"\"\n",
    "class AE(torch.nn.Module):\n",
    "    def __init__(self, numFrequencies, numRows, numFeatures=100):\n",
    "        super().__init__()\n",
    "\n",
    "        # Building a linear encoder with Batch Normalization\n",
    "        self.encoder = torch.nn.Sequential(\n",
    "            torch.nn.Linear(numFrequencies * numRows, 2048),\n",
    "            torch.nn.ReLU(),\n",
    "            torch.nn.Linear(2048, 2048),\n",
    "            torch.nn.ReLU(),\n",
    "            torch.nn.Linear(2048, 2048),\n",
    "            torch.nn.ReLU(),\n",
    "            torch.nn.Linear(2048, numFeatures),\n",
    "            torch.nn.ReLU(),\n",
    "        )\n",
    "\n",
    "        # Building a linear decoder with Batch Normalization\n",
    "        self.decoder = torch.nn.Sequential(\n",
    "            torch.nn.Linear(numFeatures, 2048),\n",
    "            torch.nn.ReLU(),\n",
    "            torch.nn.Linear(2048, 2048),\n",
    "            torch.nn.ReLU(),\n",
    "            torch.nn.Linear(2048, 2048),\n",
    "            torch.nn.ReLU(),\n",
    "            torch.nn.Linear(2048, numFrequencies * numRows),\n",
    "            torch.nn.Sigmoid()\n",
    "        )\n",
    "\n",
    "        # Apply Xavier initialization to the weights\n",
    "        for m in self.modules():\n",
    "            if isinstance(m, nn.Linear):\n",
    "                init.xavier_uniform_(m.weight)\n",
    "\n",
    "    def forward(self, x):\n",
    "        encoded = self.encoder(x)\n",
    "        decoded = self.decoder(encoded)\n",
    "        return decoded\n"
   ]
  },
  {
   "cell_type": "code",
   "execution_count": 4,
   "id": "9368531f",
   "metadata": {
    "execution": {
     "iopub.execute_input": "2024-03-14T11:04:04.057371Z",
     "iopub.status.busy": "2024-03-14T11:04:04.056603Z",
     "iopub.status.idle": "2024-03-14T11:04:04.061440Z",
     "shell.execute_reply": "2024-03-14T11:04:04.060565Z"
    },
    "papermill": {
     "duration": 0.011103,
     "end_time": "2024-03-14T11:04:04.063359",
     "exception": false,
     "start_time": "2024-03-14T11:04:04.052256",
     "status": "completed"
    },
    "tags": []
   },
   "outputs": [],
   "source": [
    "alpha_frequencies = 21 * 4\n",
    "delta_frequencies = 18 * 4\n",
    "theta_frequencies = 20 * 4\n",
    "beta_frequencies = 41 * 4"
   ]
  },
  {
   "cell_type": "code",
   "execution_count": 5,
   "id": "baa92b56",
   "metadata": {
    "execution": {
     "iopub.execute_input": "2024-03-14T11:04:04.072036Z",
     "iopub.status.busy": "2024-03-14T11:04:04.071188Z",
     "iopub.status.idle": "2024-03-14T11:04:06.690283Z",
     "shell.execute_reply": "2024-03-14T11:04:06.689454Z"
    },
    "papermill": {
     "duration": 2.625943,
     "end_time": "2024-03-14T11:04:06.692705",
     "exception": false,
     "start_time": "2024-03-14T11:04:04.066762",
     "status": "completed"
    },
    "tags": []
   },
   "outputs": [
    {
     "name": "stdout",
     "output_type": "stream",
     "text": [
      "CPU times: user 3 µs, sys: 0 ns, total: 3 µs\n",
      "Wall time: 7.39 µs\n",
      "Num Frequencies: 400\n",
      "Use Multi GPU 0\n",
      "Using:  0\n"
     ]
    }
   ],
   "source": [
    "%time\n",
    "# ENGINEER FEATURES\n",
    "import warnings\n",
    "warnings.filterwarnings('ignore')\n",
    "\n",
    "PATH = '/kaggle/input/hms-harmful-brain-activity-classification/train_spectrograms/'\n",
    "\n",
    "SPEC_FREQS = len(pd.read_parquet(f'{PATH}1000086677.parquet').columns[1:])\n",
    "print(f\"Num Frequencies: {SPEC_FREQS}\")\n",
    "numFeatures = 400\n",
    "if torch.cuda.device_count() > 1:\n",
    "    device = torch.cuda.current_device()\n",
    "    print('Use Multi GPU', device)\n",
    "elif torch.cuda.device_count() == 1 and use_gpu:\n",
    "    device = torch.cuda.current_device()\n",
    "    print('Use GPU', device)\n",
    "else:\n",
    "    print(\"use CPU\")\n",
    "    device = torch.device('cpu')  # sets the device to be CPU\n",
    "    print(device)\n",
    "# device = torch.device('cpu') # delete when issue resolved\n",
    "\n",
    "print(\"Using: \", device)\n",
    "\"\"\"\n",
    "Define delta feature autoencoder\n",
    "\"\"\"\n",
    "model_delta = AE(delta_frequencies, 300, numFeatures=numFeatures)\n",
    "model_delta = model_delta.to(device)\n",
    "if torch.cuda.device_count() > 1:\n",
    "    model_delta = nn.DataParallel(module=model_delta)\n",
    "loss_function_delta = torch.nn.MSELoss()\n",
    "optimizer_delta = torch.optim.Adam(model_delta.parameters(),\n",
    "                            lr = 1e-4,\n",
    "                            )\n",
    "\n",
    "# No gamma waves in this data!"
   ]
  },
  {
   "cell_type": "code",
   "execution_count": 6,
   "id": "f1e1b7e2",
   "metadata": {
    "execution": {
     "iopub.execute_input": "2024-03-14T11:04:06.701603Z",
     "iopub.status.busy": "2024-03-14T11:04:06.701238Z",
     "iopub.status.idle": "2024-03-14T11:04:06.808314Z",
     "shell.execute_reply": "2024-03-14T11:04:06.807483Z"
    },
    "papermill": {
     "duration": 0.114107,
     "end_time": "2024-03-14T11:04:06.810660",
     "exception": false,
     "start_time": "2024-03-14T11:04:06.696553",
     "status": "completed"
    },
    "tags": []
   },
   "outputs": [],
   "source": [
    "from scipy import signal\n",
    "def extract_frequency_band_features(segment):\n",
    "    \n",
    "    cols = pd.read_parquet(f'{PATH}1000086677.parquet').columns[1:] # like LR_14.32\n",
    "    channel_groups = ['LL', 'RL', 'LP', 'RP']\n",
    "    \n",
    "    eeg_bands = {'Delta': (0.5, 4), 'Theta': (4, 8), 'Alpha': (8, 12), 'Beta': (12, 30)}\n",
    "    band_datapoints = {\n",
    "        \"Alpha\": [],\n",
    "        \"Delta\": [],\n",
    "        \"Theta\": [],\n",
    "        \"Beta\": [],\n",
    "    }\n",
    "    \n",
    "    for channel_group in channel_groups:\n",
    "        for band in eeg_bands:\n",
    "            low, high = eeg_bands[band]\n",
    "            # Filter signal for the specific band\n",
    "            idxs = []\n",
    "            for idx, col in enumerate(cols):\n",
    "                if channel_group in col and float(col.split(\"_\")[1]) <= high and float(col.split(\"_\")[1]) >= low:\n",
    "                    idxs.append(idx)\n",
    "                        \n",
    "            filtered = segment[:, idxs].flatten()\n",
    "            band_datapoints[band].append(filtered)\n",
    "    \n",
    "    for band in band_datapoints:\n",
    "        band_datapoints[band] = np.array(band_datapoints[band]).flatten() \n",
    "        # join all 4 group signals into one to reconstruct in autoencoder\n",
    "    return band_datapoints\n",
    "            "
   ]
  },
  {
   "cell_type": "code",
   "execution_count": 7,
   "id": "5791ec2e",
   "metadata": {
    "execution": {
     "iopub.execute_input": "2024-03-14T11:04:06.819864Z",
     "iopub.status.busy": "2024-03-14T11:04:06.819228Z",
     "iopub.status.idle": "2024-03-14T12:54:31.832768Z",
     "shell.execute_reply": "2024-03-14T12:54:31.831427Z"
    },
    "papermill": {
     "duration": 6625.020311,
     "end_time": "2024-03-14T12:54:31.834769",
     "exception": false,
     "start_time": "2024-03-14T11:04:06.814458",
     "status": "completed"
    },
    "tags": []
   },
   "outputs": [
    {
     "name": "stdout",
     "output_type": "stream",
     "text": [
      "Train non-overlapp eeg_id shape: (17089, 12)\n",
      "Training Autoencoder on 17089 datapoints with batch size 100\n",
      "Batches 171: "
     ]
    },
    {
     "name": "stderr",
     "output_type": "stream",
     "text": [
      "  0%|          | 0/8 [00:00<?, ?it/s]"
     ]
    },
    {
     "name": "stdout",
     "output_type": "stream",
     "text": [
      "Done batch 0... Done batch 5... Done batch 10... Done batch 15... Done batch 20... Done batch 25... Done batch 30... Done batch 35... Done batch 40... Done batch 45... Done batch 50... Done batch 55... Done batch 60... Done batch 65... Done batch 70... Done batch 75... Done batch 80... Done batch 85... Done batch 90... Done batch 95... Done batch 100... Done batch 105... Done batch 110... Done batch 115... Done batch 120... Done batch 125... Done batch 130... Done batch 135... Done batch 140... Done batch 145... Done batch 150... Done batch 155... Done batch 160... Done batch 165... Done batch 170... Epoch 0 Summary: Avg Loss Delta: 0.031748422154644775\n",
      "Saving new best model epoch 0 at /kaggle/working/model_delta_best.pth\n",
      "Saving model at /kaggle/working/model_delta_latest.pth\n"
     ]
    },
    {
     "name": "stderr",
     "output_type": "stream",
     "text": [
      " 12%|█▎        | 1/8 [14:21<1:40:31, 861.65s/it]"
     ]
    },
    {
     "name": "stdout",
     "output_type": "stream",
     "text": [
      "Done batch 0... Done batch 5... Done batch 10... Done batch 15... Done batch 20... Done batch 25... Done batch 30... Done batch 35... Done batch 40... Done batch 45... Done batch 50... Done batch 55... Done batch 60... Done batch 65... Done batch 70... Done batch 75... Done batch 80... Done batch 85... Done batch 90... Done batch 95... Done batch 100... Done batch 105... Done batch 110... Done batch 115... Done batch 120... Done batch 125... Done batch 130... Done batch 135... Done batch 140... Done batch 145... Done batch 150... Done batch 155... Done batch 160... Done batch 165... Done batch 170... Epoch 1 Summary: Avg Loss Delta: 0.015824495743938356\n",
      "Saving new best model epoch 1 at /kaggle/working/model_delta_best.pth\n",
      "Saving model at /kaggle/working/model_delta_latest.pth\n"
     ]
    },
    {
     "name": "stderr",
     "output_type": "stream",
     "text": [
      " 25%|██▌       | 2/8 [27:58<1:23:31, 835.28s/it]"
     ]
    },
    {
     "name": "stdout",
     "output_type": "stream",
     "text": [
      "Done batch 0... Done batch 5... Done batch 10... Done batch 15... Done batch 20... Done batch 25... Done batch 30... Done batch 35... Done batch 40... Done batch 45... Done batch 50... Done batch 55... Done batch 60... Done batch 65... Done batch 70... Done batch 75... Done batch 80... Done batch 85... Done batch 90... Done batch 95... Done batch 100... Done batch 105... Done batch 110... Done batch 115... Done batch 120... Done batch 125... Done batch 130... Done batch 135... Done batch 140... Done batch 145... Done batch 150... Done batch 155... Done batch 160... Done batch 165... Done batch 170... Epoch 2 Summary: Avg Loss Delta: 0.014028833323969828\n",
      "Saving new best model epoch 2 at /kaggle/working/model_delta_best.pth\n",
      "Saving model at /kaggle/working/model_delta_latest.pth\n"
     ]
    },
    {
     "name": "stderr",
     "output_type": "stream",
     "text": [
      " 38%|███▊      | 3/8 [41:40<1:09:05, 829.16s/it]"
     ]
    },
    {
     "name": "stdout",
     "output_type": "stream",
     "text": [
      "Done batch 0... Done batch 5... Done batch 10... Done batch 15... Done batch 20... Done batch 25... Done batch 30... Done batch 35... Done batch 40... Done batch 45... Done batch 50... Done batch 55... Done batch 60... Done batch 65... Done batch 70... Done batch 75... Done batch 80... Done batch 85... Done batch 90... Done batch 95... Done batch 100... Done batch 105... Done batch 110... Done batch 115... Done batch 120... Done batch 125... Done batch 130... Done batch 135... Done batch 140... Done batch 145... Done batch 150... Done batch 155... Done batch 160... Done batch 165... Done batch 170... Epoch 3 Summary: Avg Loss Delta: 0.012836086122613204\n",
      "Saving new best model epoch 3 at /kaggle/working/model_delta_best.pth\n",
      "Saving model at /kaggle/working/model_delta_latest.pth\n"
     ]
    },
    {
     "name": "stderr",
     "output_type": "stream",
     "text": [
      " 50%|█████     | 4/8 [55:29<55:17, 829.34s/it]  "
     ]
    },
    {
     "name": "stdout",
     "output_type": "stream",
     "text": [
      "Done batch 0... Done batch 5... Done batch 10... Done batch 15... Done batch 20... Done batch 25... Done batch 30... Done batch 35... Done batch 40... Done batch 45... Done batch 50... Done batch 55... Done batch 60... Done batch 65... Done batch 70... Done batch 75... Done batch 80... Done batch 85... Done batch 90... Done batch 95... Done batch 100... Done batch 105... Done batch 110... Done batch 115... Done batch 120... Done batch 125... Done batch 130... Done batch 135... Done batch 140... Done batch 145... Done batch 150... Done batch 155... Done batch 160... Done batch 165... Done batch 170... Epoch 4 Summary: Avg Loss Delta: 0.012463808838517694\n",
      "Saving new best model epoch 4 at /kaggle/working/model_delta_best.pth\n",
      "Saving model at /kaggle/working/model_delta_latest.pth\n"
     ]
    },
    {
     "name": "stderr",
     "output_type": "stream",
     "text": [
      " 62%|██████▎   | 5/8 [1:09:24<41:34, 831.36s/it]"
     ]
    },
    {
     "name": "stdout",
     "output_type": "stream",
     "text": [
      "Done batch 0... Done batch 5... Done batch 10... Done batch 15... Done batch 20... Done batch 25... Done batch 30... Done batch 35... Done batch 40... Done batch 45... Done batch 50... Done batch 55... Done batch 60... Done batch 65... Done batch 70... Done batch 75... Done batch 80... Done batch 85... Done batch 90... Done batch 95... Done batch 100... Done batch 105... Done batch 110... Done batch 115... Done batch 120... Done batch 125... Done batch 130... Done batch 135... Done batch 140... Done batch 145... Done batch 150... Done batch 155... Done batch 160... Done batch 165... Done batch 170... Epoch 5 Summary: Avg Loss Delta: 0.011888765098189402\n",
      "Saving new best model epoch 5 at /kaggle/working/model_delta_best.pth\n",
      "Saving model at /kaggle/working/model_delta_latest.pth\n"
     ]
    },
    {
     "name": "stderr",
     "output_type": "stream",
     "text": [
      " 75%|███████▌  | 6/8 [1:23:02<27:33, 826.79s/it]"
     ]
    },
    {
     "name": "stdout",
     "output_type": "stream",
     "text": [
      "Done batch 0... Done batch 5... Done batch 10... Done batch 15... Done batch 20... Done batch 25... Done batch 30... Done batch 35... Done batch 40... Done batch 45... Done batch 50... Done batch 55... Done batch 60... Done batch 65... Done batch 70... Done batch 75... Done batch 80... Done batch 85... Done batch 90... Done batch 95... Done batch 100... Done batch 105... Done batch 110... Done batch 115... Done batch 120... Done batch 125... Done batch 130... Done batch 135... Done batch 140... Done batch 145... Done batch 150... Done batch 155... Done batch 160... Done batch 165... Done batch 170... Epoch 6 Summary: Avg Loss Delta: 0.011647678072950994\n",
      "Saving new best model epoch 6 at /kaggle/working/model_delta_best.pth\n",
      "Saving model at /kaggle/working/model_delta_latest.pth\n"
     ]
    },
    {
     "name": "stderr",
     "output_type": "stream",
     "text": [
      " 88%|████████▊ | 7/8 [1:36:36<13:42, 822.38s/it]"
     ]
    },
    {
     "name": "stdout",
     "output_type": "stream",
     "text": [
      "Done batch 0... Done batch 5... Done batch 10... Done batch 15... Done batch 20... Done batch 25... Done batch 30... Done batch 35... Done batch 40... Done batch 45... Done batch 50... Done batch 55... Done batch 60... Done batch 65... Done batch 70... Done batch 75... Done batch 80... Done batch 85... Done batch 90... Done batch 95... Done batch 100... Done batch 105... Done batch 110... Done batch 115... Done batch 120... Done batch 125... Done batch 130... Done batch 135... Done batch 140... Done batch 145... Done batch 150... Done batch 155... Done batch 160... Done batch 165... Done batch 170... Epoch 7 Summary: Avg Loss Delta: 0.01160341649376161\n",
      "Saving new best model epoch 7 at /kaggle/working/model_delta_best.pth\n",
      "Saving model at /kaggle/working/model_delta_latest.pth\n"
     ]
    },
    {
     "name": "stderr",
     "output_type": "stream",
     "text": [
      "100%|██████████| 8/8 [1:50:24<00:00, 828.07s/it]\n"
     ]
    }
   ],
   "source": [
    "from torch.utils.data import DataLoader, TensorDataset\n",
    "torch.autograd.set_detect_anomaly(True)\n",
    "\n",
    "batch_size = 100\n",
    "\n",
    "spectrogram_dataset = SpectrogramDataset(\"train\", transform=transforms.Compose([\n",
    "    MiddleCrop(), Impute(), LogTransform()])\n",
    "    )\n",
    "\n",
    "dataloader = DataLoader(spectrogram_dataset, batch_size=batch_size,\n",
    "                        shuffle=True, num_workers=2)\n",
    "\n",
    "num_batches = len(spectrogram_dataset) // batch_size + 1\n",
    "\n",
    "print(f\"Training Autoencoder on {len(spectrogram_dataset)} datapoints with batch size {batch_size}\")\n",
    "print(f\"Batches {num_batches}:\", end=' ')\n",
    "num_epochs = 8 # fine with 2-3 epochs but should do more with GPU if possible\n",
    "\n",
    "best_loss = float('inf')\n",
    "best_epoch = -1\n",
    "DELTA_PATH = \"/kaggle/working/model_delta_latest.pth\"\n",
    "BEST_DELTA_PATH = \"/kaggle/working/model_delta_best.pth\"\n",
    "\n",
    "for epoch in tqdm(range(num_epochs)): \n",
    "    \n",
    "    epoch_loss_delta = 0.0\n",
    "    \n",
    "    for i, sample_batched in enumerate(dataloader):       \n",
    "#         if (i==6):\n",
    "#             break;\n",
    "        input_delta_list = []\n",
    "    \n",
    "        this_batch_size = sample_batched[\"values\"].shape[0]\n",
    "        for k in range(this_batch_size):\n",
    "            \n",
    "            eeg_segment = sample_batched[\"values\"][k]\n",
    "            \n",
    "            signals = extract_frequency_band_features(eeg_segment)\n",
    "            \n",
    "            # Convert to torch tensors and append to the lists flattened since VNN!!!\n",
    "            if len(signals[\"Delta\"]) == delta_frequencies * 300:\n",
    "                vals = signals[\"Delta\"]\n",
    "                norm_vals = (vals - vals.min()) / (vals.max() - vals.min())\n",
    "                input_delta_list.append(norm_vals)\n",
    "            else:\n",
    "                pass\n",
    "                # print(\"Delta mismatch shape of: \", len(signals[\"Delta\"].flatten()))\n",
    "                \n",
    "                \n",
    "        # Forward pass through the autoencoders\n",
    "        input_delta_batch = torch.tensor(input_delta_list, dtype=torch.float32).to(device)   \n",
    "        \n",
    "        output_delta_batch = model_delta(input_delta_batch)\n",
    "\n",
    "        # Calculate loss and perform optimization for delta autoencoder\n",
    "        loss_delta = loss_function_delta(output_delta_batch, input_delta_batch)\n",
    "        optimizer_delta.zero_grad()\n",
    "        loss_delta.backward()\n",
    "        optimizer_delta.step()\n",
    "\n",
    "        # Accumulate epoch loss\n",
    "        epoch_loss_delta += loss_delta.item()\n",
    "        \n",
    "        # Clean up to avoid memory issues\n",
    "        del output_delta_batch, input_delta_batch, input_delta_list\n",
    "        \n",
    "        if i % 5 == 0:\n",
    "            print(f\"Done batch {i}\", end = '... ')\n",
    "\n",
    "    # Calculate average loss for the epoch\n",
    "    avg_loss_delta = epoch_loss_delta / num_batches\n",
    "\n",
    "    print(f\"Epoch {epoch} Summary: Avg Loss Delta: {avg_loss_delta}\")\n",
    "    \n",
    "    if avg_loss_delta < best_loss:\n",
    "        best_loss = avg_loss_delta\n",
    "        best_epoch = epoch\n",
    "        print(f\"Saving new best model epoch {epoch} at {BEST_DELTA_PATH}\")\n",
    "        torch.save(model_delta.state_dict(), BEST_DELTA_PATH)\n",
    "\n",
    "    # Save the trained model parameters\n",
    "\n",
    "    print(f\"Saving model at {DELTA_PATH}\")\n",
    "    torch.save(model_delta.state_dict(), DELTA_PATH)\n",
    "\n",
    "del model_delta, loss_delta, optimizer_delta\n",
    "torch.cuda.empty_cache()"
   ]
  }
 ],
 "metadata": {
  "kaggle": {
   "accelerator": "nvidiaTeslaT4",
   "dataSources": [
    {
     "databundleVersionId": 7469972,
     "sourceId": 59093,
     "sourceType": "competition"
    }
   ],
   "dockerImageVersionId": 30648,
   "isGpuEnabled": true,
   "isInternetEnabled": true,
   "language": "python",
   "sourceType": "notebook"
  },
  "kernelspec": {
   "display_name": "Python 3",
   "language": "python",
   "name": "python3"
  },
  "language_info": {
   "codemirror_mode": {
    "name": "ipython",
    "version": 3
   },
   "file_extension": ".py",
   "mimetype": "text/x-python",
   "name": "python",
   "nbconvert_exporter": "python",
   "pygments_lexer": "ipython3",
   "version": "3.10.13"
  },
  "papermill": {
   "default_parameters": {},
   "duration": 6650.474217,
   "end_time": "2024-03-14T12:54:35.079536",
   "environment_variables": {},
   "exception": null,
   "input_path": "__notebook__.ipynb",
   "output_path": "__notebook__.ipynb",
   "parameters": {},
   "start_time": "2024-03-14T11:03:44.605319",
   "version": "2.5.0"
  }
 },
 "nbformat": 4,
 "nbformat_minor": 5
}
